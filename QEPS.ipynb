{
  "nbformat": 4,
  "nbformat_minor": 0,
  "metadata": {
    "colab": {
      "provenance": []
    },
    "kernelspec": {
      "name": "python3",
      "display_name": "Python 3"
    },
    "language_info": {
      "name": "python"
    }
  },
  "cells": [
    {
      "cell_type": "markdown",
      "source": [
        "###Solving Satisfiability Problems with Membrane Algorithms\n",
        "##Demo\n",
        "\n",
        "###Made by Patricia-Theodora Manole, Radu-Ioan Mihai, Maria-Raluca Stanescu\n",
        "\n"
      ],
      "metadata": {
        "id": "hlGyJCe3R-Dr"
      }
    },
    {
      "cell_type": "markdown",
      "source": [
        "**Problem statement**: Given a list of integers, find the subset that has the maximum sum, subject to the constraint that no two elements in the subset are adjacent.\n",
        "\n",
        "\n"
      ],
      "metadata": {
        "id": "3jgMLjWtBDEq"
      }
    },
    {
      "cell_type": "code",
      "source": [
        "import random\n",
        "\n",
        "def initialize_membrane_structure(num_elements):\n",
        "    # create a single membrane with the input list as its initial state\n",
        "    return [[{\"individuals\": [0]*num_elements, \"fitness\": -1}]]\n",
        "\n",
        "def communication_rules(membrane):\n",
        "    # reverse sort by fitness \n",
        "    membrane[0].sort(key=lambda x: x[\"fitness\"], reverse=True)\n",
        "    \n",
        "    # keep the top half of the individuals\n",
        "    membrane[0] = membrane[0][:len(membrane[0])//2]\n",
        "\n",
        "def qiea_termination_condition(t):\n",
        "    return t >= 50\n",
        "\n",
        "def qiea_subset_sum(individuals, lista):\n",
        "    # get the subset of elements corresponding to the set bits in the individual\n",
        "    subset = []\n",
        "    for i in range(len(lista)):\n",
        "        if individuals[i] == 1:\n",
        "            subset.append(lista[i])\n",
        "        \n",
        "    # check if any adjacent elements are in the subset\n",
        "    for i in range(1, len(individuals)):\n",
        "      if individuals[i] == individuals [i-1] == 1:\n",
        "        return {\"individuals\": individuals, \"fitness\": -1} \n",
        "             \n",
        "    # calculate the sum of the subset\n",
        "    subset_sum = sum(subset)\n",
        "        \n",
        "    # return the subset and its sum as the fitness\n",
        "    return {\"individuals\": individuals, \"fitness\": subset_sum}\n",
        "\n",
        "def qeps(q, m, termination_condition, subset_sum, lista):\n",
        "    t = 0\n",
        "    membrane = initialize_membrane_structure(len(lista))\n",
        "\n",
        "    while not termination_condition(t):\n",
        "        for i in range(m):\n",
        "            individuals = [random.randint(0, 1) for elem in range(len(lista))]\n",
        "            qiea_result = subset_sum(individuals, lista)\n",
        "            individuals = qiea_result[\"individuals\"]\n",
        "            \n",
        "            if qiea_result[\"fitness\"] > 0:\n",
        "                membrane[0].append(qiea_result)\n",
        "            \n",
        "        communication_rules(membrane)\n",
        "        t += 1\n",
        "\n",
        "    return max(membrane[0], key=lambda x: x[\"fitness\"])\n",
        "\n",
        "def max_sum_no_adjacent(lista):\n",
        "    max_sum = 0\n",
        "    positions = []\n",
        "    \n",
        "    subset = qeps(10, 10000, qiea_termination_condition, qiea_subset_sum, lista)\n",
        "    if subset[\"fitness\"] > max_sum:\n",
        "        max_sum = subset[\"fitness\"]\n",
        "        positions = subset[\"individuals\"]\n",
        "    \n",
        "    return max_sum, positions\n"
      ],
      "metadata": {
        "id": "2UVy54ARMXa8"
      },
      "execution_count": 11,
      "outputs": []
    },
    {
      "cell_type": "code",
      "source": [
        "lista = [1, 2, 6, 15, 9]\n",
        "result = max_sum_no_adjacent(lista)\n",
        "\n",
        "print(\"Max sum:\", result[0])\n",
        "print(\"Individuals:\", result[1])\n",
        "\n",
        "\n",
        "best_subset = []\n",
        "for elem in range(len(lista)):\n",
        "  if result[1][elem] == 1:\n",
        "    best_subset.append(lista[elem])\n",
        "\n",
        "print(\"Elements:\", best_subset) \n"
      ],
      "metadata": {
        "colab": {
          "base_uri": "https://localhost:8080/"
        },
        "id": "3ElnOftZBI-2",
        "outputId": "04c6f249-7e7e-432f-c375-78d7df0fd4e1"
      },
      "execution_count": 13,
      "outputs": [
        {
          "output_type": "stream",
          "name": "stdout",
          "text": [
            "Max sum: 17\n",
            "Individuals: [0, 1, 0, 1, 0]\n",
            "Elements: [2, 15]\n"
          ]
        }
      ]
    }
  ]
}